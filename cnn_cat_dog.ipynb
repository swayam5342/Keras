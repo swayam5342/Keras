{
 "cells": [
  {
   "cell_type": "markdown",
   "metadata": {},
   "source": [
    "MODEL IS OVER FITTING IN THIS CASE \n",
    "DOT NOT USE THIS ITS ONLY FOR LEARING PURPOSE "
   ]
  },
  {
   "cell_type": "markdown",
   "metadata": {},
   "source": [
    "ALL THE IMPORTS"
   ]
  },
  {
   "cell_type": "code",
   "execution_count": 1,
   "metadata": {},
   "outputs": [],
   "source": [
    "import  numpy as np\n",
    "import  keras\n",
    "from keras.models import  Sequential # type: ignore\n",
    "from keras.layers import Activation, Dense ,Flatten, BatchNormalization, Conv2D, MaxPool2D # type: ignore\n",
    "from keras.optimizers import Adam # type: ignore\n",
    "from keras.metrics import categorical_crossentropy # type: ignore\n",
    "from tensorflow.keras.preprocessing.image import ImageDataGenerator # type: ignore\n",
    "from sklearn.metrics import confusion_matrix,ConfusionMatrixDisplay\n",
    "import itertools\n",
    "import os\n",
    "import shutil\n",
    "import random\n",
    "import glob\n",
    "import matplotlib.pyplot as plt\n",
    "import warnings\n",
    "%matplotlib inline\n",
    "warnings.simplefilter(action='ignore', category=FutureWarning)"
   ]
  },
  {
   "cell_type": "markdown",
   "metadata": {},
   "source": [
    "MAKE  FOLDER FOR TRAIN , VALID AND TEST DATA"
   ]
  },
  {
   "cell_type": "code",
   "execution_count": null,
   "metadata": {},
   "outputs": [],
   "source": [
    "os.chdir('train')\n",
    "if os.path.isdir('train/dog') is False:\n",
    "    os.makedirs('train/dog')\n",
    "    os.makedirs('train/cat')\n",
    "    os.makedirs('valid/dog')\n",
    "    os.makedirs('valid/cat')\n",
    "    os.makedirs('test/dog')\n",
    "    os.makedirs('test/cat')\n",
    "\n",
    "for c in random.sample(glob.glob('cat*'),500):\n",
    "    shutil.move(c,'train/cat')\n",
    "\n",
    "for c in random.sample(glob.glob('dog*'),500):\n",
    "    shutil.move(c,'train/dog')\n",
    "\n",
    "for c in random.sample(glob.glob('cat*'),100):\n",
    "    shutil.move(c,'valid/cat')\n",
    "\n",
    "for c in random.sample(glob.glob('dog*'),100):\n",
    "    shutil.move(c,'valid/dog')\n",
    "\n",
    "for c in random.sample(glob.glob('cat*'),50):\n",
    "    shutil.move(c,'test/cat')\n",
    "\n",
    "for c in random.sample(glob.glob('cat*'),50):\n",
    "    shutil.move(c,'test/dog')"
   ]
  },
  {
   "cell_type": "code",
   "execution_count": 2,
   "metadata": {},
   "outputs": [],
   "source": [
    "train_path = 'data/cat_dog/train'\n",
    "valid_path = 'data/cat_dog/valid'\n",
    "test_path = 'data/cat_dog/test'"
   ]
  },
  {
   "cell_type": "markdown",
   "metadata": {},
   "source": [
    "PROCESSING THE IMAGES BEFORE FEDDING IN THE  MODEL "
   ]
  },
  {
   "cell_type": "code",
   "execution_count": 3,
   "metadata": {},
   "outputs": [
    {
     "name": "stdout",
     "output_type": "stream",
     "text": [
      "Found 1000 images belonging to 2 classes.\n",
      "Found 200 images belonging to 2 classes.\n",
      "Found 100 images belonging to 2 classes.\n"
     ]
    }
   ],
   "source": [
    "train_batch = ImageDataGenerator(preprocessing_function=keras.applications.vgg16.preprocess_input).flow_from_directory(directory=train_path,target_size=(224,224),classes=  ['cat','dog'],batch_size=10)\n",
    "valid_batch = ImageDataGenerator(preprocessing_function=keras.applications.vgg16.preprocess_input).flow_from_directory(directory=valid_path,target_size=(224,224),classes=  ['cat','dog'],batch_size=10)\n",
    "test_batch = ImageDataGenerator(preprocessing_function=keras.applications.vgg16.preprocess_input).flow_from_directory(directory=test_path,target_size=(224,224),classes=  ['cat','dog'],batch_size=10,shuffle=False)"
   ]
  },
  {
   "cell_type": "code",
   "execution_count": 4,
   "metadata": {},
   "outputs": [],
   "source": [
    "imgs, labels = next(train_batch)"
   ]
  },
  {
   "cell_type": "code",
   "execution_count": 5,
   "metadata": {},
   "outputs": [],
   "source": [
    "def plotimage(images_arr):\n",
    "    fig, axes = plt.subplots(1,10,figsize=(20,20))\n",
    "    axes=axes.flatten()\n",
    "    for img , ax in zip(images_arr,axes):\n",
    "        ax.imshow(img)\n",
    "        ax.axis('off')\n",
    "    plt.tight_layout()\n",
    "    plt.show()"
   ]
  },
  {
   "cell_type": "code",
   "execution_count": null,
   "metadata": {},
   "outputs": [],
   "source": [
    "#plotimage(imgs)\n",
    "#print(labels)"
   ]
  },
  {
   "cell_type": "markdown",
   "metadata": {},
   "source": [
    "STRUCTURE OF THE  MODEL "
   ]
  },
  {
   "cell_type": "code",
   "execution_count": 6,
   "metadata": {},
   "outputs": [
    {
     "name": "stderr",
     "output_type": "stream",
     "text": [
      "c:\\Users\\RAVI PRAKASH\\AppData\\Local\\Programs\\Python\\Python311\\Lib\\site-packages\\keras\\src\\layers\\convolutional\\base_conv.py:107: UserWarning: Do not pass an `input_shape`/`input_dim` argument to a layer. When using Sequential models, prefer using an `Input(shape)` object as the first layer in the model instead.\n",
      "  super().__init__(activity_regularizer=activity_regularizer, **kwargs)\n"
     ]
    }
   ],
   "source": [
    "model=Sequential([\n",
    "    Conv2D(filters=32,kernel_size=(3,3),activation='relu',padding='same',input_shape=(224,224,3)),\n",
    "    MaxPool2D(pool_size=(2,2),strides=2),\n",
    "    Conv2D(filters=64,kernel_size=(3,3),activation='relu',padding='same'),\n",
    "    MaxPool2D(pool_size=(2,2),strides=2),\n",
    "    Flatten(),\n",
    "    Dense(units=2,activation='softmax')\n",
    "])"
   ]
  },
  {
   "cell_type": "code",
   "execution_count": null,
   "metadata": {},
   "outputs": [],
   "source": [
    "model.summary()"
   ]
  },
  {
   "cell_type": "code",
   "execution_count": 7,
   "metadata": {},
   "outputs": [],
   "source": [
    "model.compile(optimizer=Adam(learning_rate=0.0001),loss='categorical_crossentropy',metrics=['accuracy'])"
   ]
  },
  {
   "cell_type": "markdown",
   "metadata": {},
   "source": [
    "COMPILING AND TRAINING THE MODEL"
   ]
  },
  {
   "cell_type": "code",
   "execution_count": 8,
   "metadata": {},
   "outputs": [
    {
     "name": "stdout",
     "output_type": "stream",
     "text": [
      "Epoch 1/10\n"
     ]
    },
    {
     "name": "stderr",
     "output_type": "stream",
     "text": [
      "c:\\Users\\RAVI PRAKASH\\AppData\\Local\\Programs\\Python\\Python311\\Lib\\site-packages\\keras\\src\\trainers\\data_adapters\\py_dataset_adapter.py:121: UserWarning: Your `PyDataset` class should call `super().__init__(**kwargs)` in its constructor. `**kwargs` can include `workers`, `use_multiprocessing`, `max_queue_size`. Do not pass these arguments to `fit()`, as they will be ignored.\n",
      "  self._warn_if_super_not_called()\n"
     ]
    },
    {
     "name": "stdout",
     "output_type": "stream",
     "text": [
      "100/100 - 14s - 141ms/step - accuracy: 0.5680 - loss: 21.9271 - val_accuracy: 0.5850 - val_loss: 9.2785\n",
      "Epoch 2/10\n",
      "100/100 - 12s - 123ms/step - accuracy: 0.7250 - loss: 5.2632 - val_accuracy: 0.6400 - val_loss: 4.6647\n",
      "Epoch 3/10\n",
      "100/100 - 15s - 146ms/step - accuracy: 0.8830 - loss: 0.7425 - val_accuracy: 0.6400 - val_loss: 3.3570\n",
      "Epoch 4/10\n",
      "100/100 - 14s - 144ms/step - accuracy: 0.9520 - loss: 0.2315 - val_accuracy: 0.6350 - val_loss: 2.7547\n",
      "Epoch 5/10\n",
      "100/100 - 14s - 142ms/step - accuracy: 0.9770 - loss: 0.0846 - val_accuracy: 0.6700 - val_loss: 2.8489\n",
      "Epoch 6/10\n",
      "100/100 - 14s - 142ms/step - accuracy: 0.9890 - loss: 0.0358 - val_accuracy: 0.6550 - val_loss: 2.7179\n",
      "Epoch 7/10\n",
      "100/100 - 14s - 143ms/step - accuracy: 0.9970 - loss: 0.0120 - val_accuracy: 0.6300 - val_loss: 2.9663\n",
      "Epoch 8/10\n",
      "100/100 - 14s - 143ms/step - accuracy: 0.9950 - loss: 0.0134 - val_accuracy: 0.6500 - val_loss: 2.8407\n",
      "Epoch 9/10\n",
      "100/100 - 14s - 145ms/step - accuracy: 1.0000 - loss: 0.0011 - val_accuracy: 0.6550 - val_loss: 2.7220\n",
      "Epoch 10/10\n",
      "100/100 - 16s - 159ms/step - accuracy: 1.0000 - loss: 2.1141e-04 - val_accuracy: 0.6600 - val_loss: 2.7387\n"
     ]
    },
    {
     "data": {
      "text/plain": [
       "<keras.src.callbacks.history.History at 0x28fd1cb4490>"
      ]
     },
     "execution_count": 8,
     "metadata": {},
     "output_type": "execute_result"
    }
   ],
   "source": [
    "model.fit(x=train_batch,validation_data=valid_batch,epochs=10,verbose=2)"
   ]
  },
  {
   "cell_type": "markdown",
   "metadata": {},
   "source": [
    "PREDICTING AND PLOTING  THE PREDICTION  TO A  CONFUSION MATRIX"
   ]
  },
  {
   "cell_type": "code",
   "execution_count": 9,
   "metadata": {},
   "outputs": [
    {
     "data": {
      "image/png": "[encoded data removed]",
      "text/plain": [
       "<Figure size 640x480 with 2 Axes>"
      ]
     },
     "metadata": {},
     "output_type": "display_data"
    }
   ],
   "source": [
    "test_imgs, test_labels = next(test_batch)\n",
    "pre = model.predict(x=test_batch,verbose=0)\n",
    "np.round(pre)\n",
    "cm = confusion_matrix(y_true=test_batch.classes,y_pred=np.argmax(pre,-1))\n",
    "cm_display = ConfusionMatrixDisplay(confusion_matrix = cm, display_labels = ['cat', 'dog'])\n",
    "cm_display.plot()\n",
    "plt.show()"
   ]
  }
 ],
 "metadata": {
  "kernelspec": {
   "display_name": "Python 3",
   "language": "python",
   "name": "python3"
  },
  "language_info": {
   "codemirror_mode": {
    "name": "ipython",
    "version": 3
   },
   "file_extension": ".py",
   "mimetype": "text/x-python",
   "name": "python",
   "nbconvert_exporter": "python",
   "pygments_lexer": "ipython3",
   "version": "3.11.3"
  }
 },
 "nbformat": 4,
 "nbformat_minor": 2
}
