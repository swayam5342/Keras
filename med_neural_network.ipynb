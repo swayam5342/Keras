{
 "cells": [
  {
   "cell_type": "markdown",
   "metadata": {},
   "source": [
    "IMPORTS"
   ]
  },
  {
   "cell_type": "code",
   "execution_count": 1,
   "metadata": {},
   "outputs": [],
   "source": [
    "from tensorflow import keras\n",
    "from tensorflow.keras.models import Sequential # type: ignore\n",
    "from tensorflow.keras.layers import Activation,Dense # type: ignore\n",
    "from tensorflow.keras.optimizers import Adam # type: ignore\n",
    "from tensorflow.keras.metrics import categorical_crossentropy # type: ignore\n",
    "import numpy as np\n",
    "from random import randint\n",
    "from sklearn.utils import shuffle\n",
    "from sklearn.preprocessing import MinMaxScaler\n",
    "from sklearn.metrics import  confusion_matrix,ConfusionMatrixDisplay\n",
    "%matplotlib inline\n",
    "import matplotlib.pyplot as plt"
   ]
  },
  {
   "cell_type": "markdown",
   "metadata": {},
   "source": [
    "TRAINING DATA"
   ]
  },
  {
   "cell_type": "code",
   "execution_count": 2,
   "metadata": {},
   "outputs": [],
   "source": [
    "train_lables=[]\n",
    "train_sample=[]\n",
    "\n",
    "for i in range(50):\n",
    "    youn_rand = randint(13,65)\n",
    "    train_sample.append(youn_rand)\n",
    "    train_lables.append(1)\n",
    "    \n",
    "    old_rand = randint(65,100)\n",
    "    train_sample.append(old_rand)\n",
    "    train_lables.append(0)\n",
    "\n",
    "for i in range(1000):\n",
    "    youn_rand = randint(13,65)\n",
    "    train_sample.append(youn_rand)\n",
    "    train_lables.append(0)\n",
    "    \n",
    "    old_rand = randint(65,100)\n",
    "    train_sample.append(old_rand)\n",
    "    train_lables.append(1)\n",
    "train_sample=np.array(train_sample)\n",
    "train_lables=np.array(train_lables)\n",
    "train_lables,train_sample = shuffle(train_lables,train_sample)\n",
    "sclar = MinMaxScaler(feature_range=(0,1))\n",
    "scaled_train_sample = sclar.fit_transform(train_sample.reshape(-1,1))"
   ]
  },
  {
   "cell_type": "markdown",
   "metadata": {},
   "source": [
    "TEST DATA"
   ]
  },
  {
   "cell_type": "code",
   "execution_count": 3,
   "metadata": {},
   "outputs": [],
   "source": [
    "test_lables=[]\n",
    "test_sample=[]\n",
    "\n",
    "for i in range(50):\n",
    "    youn_rand = randint(13,65)\n",
    "    test_sample.append(youn_rand)\n",
    "    test_lables.append(1)\n",
    "    \n",
    "    old_rand = randint(65,100)\n",
    "    test_sample.append(old_rand)\n",
    "    test_lables.append(0)\n",
    "\n",
    "for i in range(250):\n",
    "    youn_rand = randint(13,65)\n",
    "    test_sample.append(youn_rand)\n",
    "    test_lables.append(0)\n",
    "    \n",
    "    old_rand = randint(65,100)\n",
    "    test_sample.append(old_rand)\n",
    "    test_lables.append(1)\n",
    "test_sample=np.array(test_sample)\n",
    "test_lables=np.array(test_lables)\n",
    "test_lables,test_sample = shuffle(test_lables,test_sample)\n",
    "scaled_test_sample = sclar.fit_transform(test_sample.reshape(-1,1))"
   ]
  },
  {
   "cell_type": "markdown",
   "metadata": {},
   "source": [
    "MODEL NEURAL NETWORK"
   ]
  },
  {
   "cell_type": "code",
   "execution_count": 4,
   "metadata": {},
   "outputs": [
    {
     "name": "stderr",
     "output_type": "stream",
     "text": [
      "c:\\Users\\RAVI PRAKASH\\AppData\\Local\\Programs\\Python\\Python311\\Lib\\site-packages\\keras\\src\\layers\\core\\dense.py:87: UserWarning: Do not pass an `input_shape`/`input_dim` argument to a layer. When using Sequential models, prefer using an `Input(shape)` object as the first layer in the model instead.\n",
      "  super().__init__(activity_regularizer=activity_regularizer, **kwargs)\n"
     ]
    }
   ],
   "source": [
    "model = Sequential([\n",
    "    Dense(units=16,input_shape=(1,),activation='relu'),\n",
    "    Dense(units=32,activation='relu'),\n",
    "    Dense(units=2,activation='softmax')\n",
    "])"
   ]
  },
  {
   "cell_type": "code",
   "execution_count": 5,
   "metadata": {},
   "outputs": [
    {
     "data": {
      "text/html": [
       "<pre style=\"white-space:pre;overflow-x:auto;line-height:normal;font-family:Menlo,'DejaVu Sans Mono',consolas,'Courier New',monospace\"><span style=\"font-weight: bold\">Model: \"sequential\"</span>\n",
       "</pre>\n"
      ],
      "text/plain": [
       "\u001b[1mModel: \"sequential\"\u001b[0m\n"
      ]
     },
     "metadata": {},
     "output_type": "display_data"
    },
    {
     "data": {
      "text/html": [
       "<pre style=\"white-space:pre;overflow-x:auto;line-height:normal;font-family:Menlo,'DejaVu Sans Mono',consolas,'Courier New',monospace\">┏━━━━━━━━━━━━━━━━━━━━━━━━━━━━━━━━━┳━━━━━━━━━━━━━━━━━━━━━━━━┳━━━━━━━━━━━━━━━┓\n",
       "┃<span style=\"font-weight: bold\"> Layer (type)                    </span>┃<span style=\"font-weight: bold\"> Output Shape           </span>┃<span style=\"font-weight: bold\">       Param # </span>┃\n",
       "┡━━━━━━━━━━━━━━━━━━━━━━━━━━━━━━━━━╇━━━━━━━━━━━━━━━━━━━━━━━━╇━━━━━━━━━━━━━━━┩\n",
       "│ dense (<span style=\"color: #0087ff; text-decoration-color: #0087ff\">Dense</span>)                   │ (<span style=\"color: #00d7ff; text-decoration-color: #00d7ff\">None</span>, <span style=\"color: #00af00; text-decoration-color: #00af00\">16</span>)             │            <span style=\"color: #00af00; text-decoration-color: #00af00\">32</span> │\n",
       "├─────────────────────────────────┼────────────────────────┼───────────────┤\n",
       "│ dense_1 (<span style=\"color: #0087ff; text-decoration-color: #0087ff\">Dense</span>)                 │ (<span style=\"color: #00d7ff; text-decoration-color: #00d7ff\">None</span>, <span style=\"color: #00af00; text-decoration-color: #00af00\">32</span>)             │           <span style=\"color: #00af00; text-decoration-color: #00af00\">544</span> │\n",
       "├─────────────────────────────────┼────────────────────────┼───────────────┤\n",
       "│ dense_2 (<span style=\"color: #0087ff; text-decoration-color: #0087ff\">Dense</span>)                 │ (<span style=\"color: #00d7ff; text-decoration-color: #00d7ff\">None</span>, <span style=\"color: #00af00; text-decoration-color: #00af00\">2</span>)              │            <span style=\"color: #00af00; text-decoration-color: #00af00\">66</span> │\n",
       "└─────────────────────────────────┴────────────────────────┴───────────────┘\n",
       "</pre>\n"
      ],
      "text/plain": [
       "┏━━━━━━━━━━━━━━━━━━━━━━━━━━━━━━━━━┳━━━━━━━━━━━━━━━━━━━━━━━━┳━━━━━━━━━━━━━━━┓\n",
       "┃\u001b[1m \u001b[0m\u001b[1mLayer (type)                   \u001b[0m\u001b[1m \u001b[0m┃\u001b[1m \u001b[0m\u001b[1mOutput Shape          \u001b[0m\u001b[1m \u001b[0m┃\u001b[1m \u001b[0m\u001b[1m      Param #\u001b[0m\u001b[1m \u001b[0m┃\n",
       "┡━━━━━━━━━━━━━━━━━━━━━━━━━━━━━━━━━╇━━━━━━━━━━━━━━━━━━━━━━━━╇━━━━━━━━━━━━━━━┩\n",
       "│ dense (\u001b[38;5;33mDense\u001b[0m)                   │ (\u001b[38;5;45mNone\u001b[0m, \u001b[38;5;34m16\u001b[0m)             │            \u001b[38;5;34m32\u001b[0m │\n",
       "├─────────────────────────────────┼────────────────────────┼───────────────┤\n",
       "│ dense_1 (\u001b[38;5;33mDense\u001b[0m)                 │ (\u001b[38;5;45mNone\u001b[0m, \u001b[38;5;34m32\u001b[0m)             │           \u001b[38;5;34m544\u001b[0m │\n",
       "├─────────────────────────────────┼────────────────────────┼───────────────┤\n",
       "│ dense_2 (\u001b[38;5;33mDense\u001b[0m)                 │ (\u001b[38;5;45mNone\u001b[0m, \u001b[38;5;34m2\u001b[0m)              │            \u001b[38;5;34m66\u001b[0m │\n",
       "└─────────────────────────────────┴────────────────────────┴───────────────┘\n"
      ]
     },
     "metadata": {},
     "output_type": "display_data"
    },
    {
     "data": {
      "text/html": [
       "<pre style=\"white-space:pre;overflow-x:auto;line-height:normal;font-family:Menlo,'DejaVu Sans Mono',consolas,'Courier New',monospace\"><span style=\"font-weight: bold\"> Total params: </span><span style=\"color: #00af00; text-decoration-color: #00af00\">642</span> (2.51 KB)\n",
       "</pre>\n"
      ],
      "text/plain": [
       "\u001b[1m Total params: \u001b[0m\u001b[38;5;34m642\u001b[0m (2.51 KB)\n"
      ]
     },
     "metadata": {},
     "output_type": "display_data"
    },
    {
     "data": {
      "text/html": [
       "<pre style=\"white-space:pre;overflow-x:auto;line-height:normal;font-family:Menlo,'DejaVu Sans Mono',consolas,'Courier New',monospace\"><span style=\"font-weight: bold\"> Trainable params: </span><span style=\"color: #00af00; text-decoration-color: #00af00\">642</span> (2.51 KB)\n",
       "</pre>\n"
      ],
      "text/plain": [
       "\u001b[1m Trainable params: \u001b[0m\u001b[38;5;34m642\u001b[0m (2.51 KB)\n"
      ]
     },
     "metadata": {},
     "output_type": "display_data"
    },
    {
     "data": {
      "text/html": [
       "<pre style=\"white-space:pre;overflow-x:auto;line-height:normal;font-family:Menlo,'DejaVu Sans Mono',consolas,'Courier New',monospace\"><span style=\"font-weight: bold\"> Non-trainable params: </span><span style=\"color: #00af00; text-decoration-color: #00af00\">0</span> (0.00 B)\n",
       "</pre>\n"
      ],
      "text/plain": [
       "\u001b[1m Non-trainable params: \u001b[0m\u001b[38;5;34m0\u001b[0m (0.00 B)\n"
      ]
     },
     "metadata": {},
     "output_type": "display_data"
    }
   ],
   "source": [
    "model.summary()"
   ]
  },
  {
   "cell_type": "code",
   "execution_count": 6,
   "metadata": {},
   "outputs": [],
   "source": [
    "model.compile(optimizer=Adam(learning_rate=0.0001),loss='sparse_categorical_crossentropy',metrics=['accuracy'])"
   ]
  },
  {
   "cell_type": "code",
   "execution_count": 7,
   "metadata": {},
   "outputs": [
    {
     "name": "stdout",
     "output_type": "stream",
     "text": [
      "Epoch 1/30\n",
      "189/189 - 2s - 8ms/step - accuracy: 0.5011 - loss: 0.7043 - val_accuracy: 0.6286 - val_loss: 0.6905\n",
      "Epoch 2/30\n",
      "189/189 - 0s - 1ms/step - accuracy: 0.6429 - loss: 0.6781 - val_accuracy: 0.6667 - val_loss: 0.6653\n",
      "Epoch 3/30\n",
      "189/189 - 0s - 1ms/step - accuracy: 0.6804 - loss: 0.6534 - val_accuracy: 0.6810 - val_loss: 0.6416\n",
      "Epoch 4/30\n",
      "189/189 - 0s - 1ms/step - accuracy: 0.7090 - loss: 0.6290 - val_accuracy: 0.7286 - val_loss: 0.6181\n",
      "Epoch 5/30\n",
      "189/189 - 0s - 1ms/step - accuracy: 0.7487 - loss: 0.6029 - val_accuracy: 0.7333 - val_loss: 0.5907\n",
      "Epoch 6/30\n",
      "189/189 - 0s - 1ms/step - accuracy: 0.7677 - loss: 0.5752 - val_accuracy: 0.7476 - val_loss: 0.5636\n",
      "Epoch 7/30\n",
      "189/189 - 0s - 1ms/step - accuracy: 0.7931 - loss: 0.5467 - val_accuracy: 0.7667 - val_loss: 0.5344\n",
      "Epoch 8/30\n",
      "189/189 - 0s - 1ms/step - accuracy: 0.8212 - loss: 0.5146 - val_accuracy: 0.8190 - val_loss: 0.5001\n",
      "Epoch 9/30\n",
      "189/189 - 0s - 1ms/step - accuracy: 0.8481 - loss: 0.4832 - val_accuracy: 0.8333 - val_loss: 0.4716\n",
      "Epoch 10/30\n",
      "189/189 - 0s - 1ms/step - accuracy: 0.8672 - loss: 0.4564 - val_accuracy: 0.8333 - val_loss: 0.4465\n",
      "Epoch 11/30\n",
      "189/189 - 0s - 1ms/step - accuracy: 0.8788 - loss: 0.4326 - val_accuracy: 0.8714 - val_loss: 0.4238\n",
      "Epoch 12/30\n",
      "189/189 - 0s - 1ms/step - accuracy: 0.8857 - loss: 0.4115 - val_accuracy: 0.8905 - val_loss: 0.4036\n",
      "Epoch 13/30\n",
      "189/189 - 0s - 1ms/step - accuracy: 0.8931 - loss: 0.3932 - val_accuracy: 0.8905 - val_loss: 0.3871\n",
      "Epoch 14/30\n",
      "189/189 - 0s - 1ms/step - accuracy: 0.8968 - loss: 0.3776 - val_accuracy: 0.8905 - val_loss: 0.3716\n",
      "Epoch 15/30\n",
      "189/189 - 0s - 1ms/step - accuracy: 0.9000 - loss: 0.3641 - val_accuracy: 0.8905 - val_loss: 0.3578\n",
      "Epoch 16/30\n",
      "189/189 - 0s - 1ms/step - accuracy: 0.9079 - loss: 0.3524 - val_accuracy: 0.8905 - val_loss: 0.3485\n",
      "Epoch 17/30\n",
      "189/189 - 0s - 1ms/step - accuracy: 0.9021 - loss: 0.3425 - val_accuracy: 0.9095 - val_loss: 0.3372\n",
      "Epoch 18/30\n",
      "189/189 - 0s - 2ms/step - accuracy: 0.9106 - loss: 0.3340 - val_accuracy: 0.9190 - val_loss: 0.3280\n",
      "Epoch 19/30\n",
      "189/189 - 0s - 2ms/step - accuracy: 0.9180 - loss: 0.3266 - val_accuracy: 0.9095 - val_loss: 0.3217\n",
      "Epoch 20/30\n",
      "189/189 - 0s - 2ms/step - accuracy: 0.9132 - loss: 0.3201 - val_accuracy: 0.9190 - val_loss: 0.3142\n",
      "Epoch 21/30\n",
      "189/189 - 0s - 2ms/step - accuracy: 0.9196 - loss: 0.3149 - val_accuracy: 0.9190 - val_loss: 0.3096\n",
      "Epoch 22/30\n",
      "189/189 - 0s - 2ms/step - accuracy: 0.9169 - loss: 0.3100 - val_accuracy: 0.9190 - val_loss: 0.3044\n",
      "Epoch 23/30\n",
      "189/189 - 0s - 2ms/step - accuracy: 0.9201 - loss: 0.3059 - val_accuracy: 0.9190 - val_loss: 0.3027\n",
      "Epoch 24/30\n",
      "189/189 - 0s - 2ms/step - accuracy: 0.9190 - loss: 0.3021 - val_accuracy: 0.9190 - val_loss: 0.2984\n",
      "Epoch 25/30\n",
      "189/189 - 0s - 2ms/step - accuracy: 0.9180 - loss: 0.2989 - val_accuracy: 0.9286 - val_loss: 0.2929\n",
      "Epoch 26/30\n",
      "189/189 - 0s - 1ms/step - accuracy: 0.9222 - loss: 0.2961 - val_accuracy: 0.9190 - val_loss: 0.2919\n",
      "Epoch 27/30\n",
      "189/189 - 0s - 1ms/step - accuracy: 0.9238 - loss: 0.2936 - val_accuracy: 0.9190 - val_loss: 0.2898\n",
      "Epoch 28/30\n",
      "189/189 - 0s - 2ms/step - accuracy: 0.9217 - loss: 0.2915 - val_accuracy: 0.9286 - val_loss: 0.2864\n",
      "Epoch 29/30\n",
      "189/189 - 0s - 2ms/step - accuracy: 0.9254 - loss: 0.2891 - val_accuracy: 0.9190 - val_loss: 0.2861\n",
      "Epoch 30/30\n",
      "189/189 - 0s - 2ms/step - accuracy: 0.9228 - loss: 0.2875 - val_accuracy: 0.9286 - val_loss: 0.2830\n"
     ]
    },
    {
     "data": {
      "text/plain": [
       "<keras.src.callbacks.history.History at 0x15254a54490>"
      ]
     },
     "execution_count": 7,
     "metadata": {},
     "output_type": "execute_result"
    }
   ],
   "source": [
    "model.fit(x=scaled_train_sample,y=train_lables,validation_split=0.1,batch_size=10,epochs=30,shuffle=True,verbose=2)"
   ]
  },
  {
   "cell_type": "markdown",
   "metadata": {},
   "source": [
    "PREDICTION"
   ]
  },
  {
   "cell_type": "code",
   "execution_count": 8,
   "metadata": {},
   "outputs": [],
   "source": [
    "pre=model.predict(x=scaled_test_sample,batch_size=10,verbose=0)\n",
    "round_pre=np.argmax(pre,axis=-1)"
   ]
  },
  {
   "cell_type": "code",
   "execution_count": 9,
   "metadata": {},
   "outputs": [],
   "source": [
    "cm = confusion_matrix(y_true=test_lables,y_pred=round_pre)\n"
   ]
  },
  {
   "cell_type": "code",
   "execution_count": 10,
   "metadata": {},
   "outputs": [
    {
     "data": {
      "image/png": "[encoded data removed]",
      "text/plain": [
       "<Figure size 640x480 with 2 Axes>"
      ]
     },
     "metadata": {},
     "output_type": "display_data"
    }
   ],
   "source": [
    "cm_display = ConfusionMatrixDisplay(confusion_matrix = cm, display_labels = ['no_side_effect', 'has_side_effect'])\n",
    "cm_display.plot()\n",
    "plt.show()\n"
   ]
  },
  {
   "cell_type": "markdown",
   "metadata": {},
   "source": [
    "SAVE\n",
    "TO SAVE AS JSON USE MODEl.to_json or to_yml but it will only save summary of model .\n",
    "if you want to save weights use model.save_weight and use new_model.load_weights"
   ]
  },
  {
   "cell_type": "code",
   "execution_count": 11,
   "metadata": {},
   "outputs": [],
   "source": [
    "import os.path\n",
    "if os.path.isfile('models/medcial_trial_model.h5') is  False:\n",
    "    model.save('models/medcial_trial_model.h5')"
   ]
  }
 ],
 "metadata": {
  "kernelspec": {
   "display_name": "Python 3",
   "language": "python",
   "name": "python3"
  },
  "language_info": {
   "codemirror_mode": {
    "name": "ipython",
    "version": 3
   },
   "file_extension": ".py",
   "mimetype": "text/x-python",
   "name": "python",
   "nbconvert_exporter": "python",
   "pygments_lexer": "ipython3",
   "version": "3.11.3"
  }
 },
 "nbformat": 4,
 "nbformat_minor": 2
}
